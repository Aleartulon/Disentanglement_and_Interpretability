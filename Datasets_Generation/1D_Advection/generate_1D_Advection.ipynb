{
 "cells": [
  {
   "cell_type": "markdown",
   "id": "9e13550a-ef07-40cc-b5fc-4f4f9792d59e",
   "metadata": {},
   "source": [
    "# Generate data for 1D Advection"
   ]
  },
  {
   "cell_type": "markdown",
   "id": "b03a75e7-2b97-4fe5-83ef-f50a15806f8f",
   "metadata": {},
   "source": [
    "This code generates data for the 1D Advection Equation. There are two possibilities: fix the initial condition and only vary the parameter (velocity) or vary both initial condition and parameter. If initial condition is fixed then it is a gaussian. It is a parametric and time dependent problem, data are stored in dimensions [B,T,C,x_1,x_2] where B is batch size, T is number of time steps, C is the channel size, x_1 is the size of first spatial dimension, x_2 is the size of second spatial dimension. Parameters are stored in dimension [B, n_p+1], where B is batch size and n_p is dimension of parameter vector. +1 because last dimension is the dt of the whole time series."
   ]
  },
  {
   "cell_type": "markdown",
   "id": "fb9fe758-d6c8-4d1a-9640-331acd8d5ab5",
   "metadata": {},
   "source": [
    "# Import libraries"
   ]
  },
  {
   "cell_type": "code",
   "execution_count": null,
   "id": "00594e2c-3710-48b7-93d6-f9c2f008e284",
   "metadata": {},
   "outputs": [],
   "source": [
    "import numpy as np\n",
    "import torch as tc\n",
    "import GPy\n",
    "import matplotlib.pyplot as plt\n",
    "import os"
   ]
  },
  {
   "cell_type": "markdown",
   "id": "9b4241d6-dfbe-4411-8607-d45210e56750",
   "metadata": {},
   "source": [
    "# Define functions"
   ]
  },
  {
   "cell_type": "code",
   "execution_count": null,
   "id": "27d3772d-4e60-4638-8863-8ee6ba2032e3",
   "metadata": {},
   "outputs": [],
   "source": [
    "def gaussian(x, mu=0, sigma=1):\n",
    "    return 1 / (sigma * np.sqrt(2 * np.pi)) * np.exp(-((x - mu) ** 2) / (2 * sigma ** 2))\n",
    "\n",
    "def gp(X,N, gaussian_ic):\n",
    "    if gaussian_ic:\n",
    "        x_values = np.arange(0,1,1./256) \n",
    "        y_values = gaussian(x_values, mu=.2, sigma=5e-2) \n",
    "        return y_values\n",
    "        \n",
    "    arr = []\n",
    "    X = X[:, np.newaxis] \n",
    "    kernel = GPy.kern.RBF(input_dim=1, variance=0.4, lengthscale=0.2)\n",
    "    \n",
    "    for i in range(N):\n",
    "        Y = np.random.multivariate_normal(np.zeros(X.shape[0]), kernel.K(X))\n",
    "        arr.append(Y)\n",
    "    return np.array(arr)\n",
    "\n",
    "def advection(x,mu,t):\n",
    "    length = np.shape(x)[-1]\n",
    "    advected = np.zeros(length)\n",
    "    for i in range(length):\n",
    "        if i/length < mu*t:\n",
    "            advected[i] = x[0]\n",
    "        else:\n",
    "            advected[i] = x[int(i-mu*t*length)]\n",
    "    return advected\n",
    "\n",
    "\n",
    "def get_data(samples, time, nu_values, gaussian_ic):\n",
    "    if gaussian_ic:\n",
    "        i_c = [gp(np.arange(0,1,1./256), samples, gaussian_ic)]\n",
    "    else:\n",
    "        i_c = gp(np.arange(0,1,1./256), samples, gaussian_ic)\n",
    "\n",
    "    field = []\n",
    "    parameter = []\n",
    "    \n",
    "    for count, init in enumerate(i_c):\n",
    "        for nu in nu_values:\n",
    "            output = []\n",
    "            for count, t in enumerate(time): \n",
    "                result = advection(init, nu, t)\n",
    "                output.append([result])\n",
    "            field.append(output)\n",
    "            parameter.append(np.concatenate((np.array([nu]), time)))\n",
    "\n",
    "    return field, parameter\n",
    "\n",
    "def generate_data_advection(info):\n",
    "    training_samples = info['training_i_c']\n",
    "    validation_samples = info['validation_i_c']\n",
    "    testing_samples = info['testing_i_c']\n",
    "    gaussian_ic = info['gaussian_ic']\n",
    "    path_data = info['path_data']\n",
    "    \n",
    "    t_grid = np.arange(0,1,0.1)\n",
    "    nu_values = np.arange(0.1,1,0.1)\n",
    "    \n",
    "    field_step_training, parameter_training = get_data(training_samples, t_grid, nu_values, gaussian_ic)\n",
    "    field_step_validation, parameter_validation = get_data(validation_samples, t_grid, nu_values, gaussian_ic)\n",
    "\n",
    "    print('field_step_training', np.shape(field_step_training))\n",
    "    print('parameter_training', np.shape(parameter_training))\n",
    "    print('field_step_validation', np.shape(field_step_validation))\n",
    "    print('parameter_validation', np.shape(parameter_validation))\n",
    "\n",
    "    np.save(path_data+'/field_step_training', np.array(field_step_training, dtype = 'float32'), allow_pickle=True, fix_imports=True)\n",
    "    np.save(path_data+'/parameter_training', np.array(parameter_training, dtype = 'float32'), allow_pickle=True, fix_imports=True)\n",
    "\n",
    "    np.save(path_data+'/field_step_validation', np.array(field_step_validation, dtype = 'float32'), allow_pickle=True, fix_imports=True)\n",
    "    np.save(path_data+'/parameter_validation', np.array(parameter_validation, dtype = 'float32'), allow_pickle=True, fix_imports=True)\n",
    "    \n",
    "\n",
    "\n"
   ]
  },
  {
   "cell_type": "markdown",
   "id": "4d16384a-cce3-49f1-b213-c94b5cb73440",
   "metadata": {},
   "source": [
    "# Get Data"
   ]
  },
  {
   "cell_type": "code",
   "execution_count": null,
   "id": "a2b16b90-ee85-4186-8611-6a3ad0e36e37",
   "metadata": {},
   "outputs": [],
   "source": [
    "information = {\n",
    "'training_i_c': 10,\n",
    "'validation_i_c':10,\n",
    "'testing_i_c':0,\n",
    "'random_parameters': False,\n",
    "'gaussian_ic': False,\n",
    "'path_data' : '../../../../../scratch/aalelonghi/data_advection_varying_ic'\n",
    "}\n",
    "os.makedirs(information['path_data'], exist_ok=True)\n",
    "generate_data_advection(information)"
   ]
  },
  {
   "cell_type": "markdown",
   "id": "43efec22-1477-49ce-8fb7-4b1446a41748",
   "metadata": {},
   "source": [
    "# Look at data before using them!!!"
   ]
  },
  {
   "cell_type": "code",
   "execution_count": null,
   "id": "758fc408-56cc-4890-b230-1489390b65b5",
   "metadata": {},
   "outputs": [],
   "source": [
    "tr = np.load(information['path_data']+'/field_step_training.npy')\n",
    "val = np.load(information['path_data']+'/field_step_validation.npy')\n",
    "p_tr = np.load(information['path_data']+'/parameter_training.npy')\n",
    "p_val = np.load(information['path_data']+'/parameter_validation.npy')\n",
    "\n",
    "print('field_step_training', np.shape(tr))\n",
    "print('parameter_training', np.shape(val))\n",
    "print('field_step_validation', np.shape(p_tr))\n",
    "print('parameter_validation', np.shape(p_val))"
   ]
  },
  {
   "cell_type": "code",
   "execution_count": null,
   "id": "409eccc2-1cbb-41ca-80a3-558c0fcd02bb",
   "metadata": {},
   "outputs": [],
   "source": [
    "for i in range(10):\n",
    "    plt.plot(tr[9][i])"
   ]
  }
 ],
 "metadata": {
  "kernelspec": {
   "display_name": "Python 3 (ipykernel)",
   "language": "python",
   "name": "python3"
  },
  "language_info": {
   "codemirror_mode": {
    "name": "ipython",
    "version": 3
   },
   "file_extension": ".py",
   "mimetype": "text/x-python",
   "name": "python",
   "nbconvert_exporter": "python",
   "pygments_lexer": "ipython3",
   "version": "3.9.21"
  }
 },
 "nbformat": 4,
 "nbformat_minor": 5
}
