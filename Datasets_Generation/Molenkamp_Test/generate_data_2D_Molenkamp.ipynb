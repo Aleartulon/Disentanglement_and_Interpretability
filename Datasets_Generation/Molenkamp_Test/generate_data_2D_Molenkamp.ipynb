{
 "cells": [
  {
   "cell_type": "markdown",
   "metadata": {},
   "source": [
    "# Data generation of Molenkamp test"
   ]
  },
  {
   "cell_type": "markdown",
   "metadata": {},
   "source": [
    "Generates data for Molenkamp test. It is a parametric and time dependent problem, data are stored in dimensions [B,T,C,x_1,x_2] where B is batch size, T is number of time steps, C is the channel size, x_1 is the size of first spatial dimension, x_2 is the size of second spatial dimension. Parameters are stored in dimension [B, n_p+1], where B is batch size and n_p is dimension of parameter vector. +1 because last dimension is the dt of the whole time series. Of course this worls only for time series with fixed time steps, otherwise modification is required. One can decide to use the molenkamp test with or without decay."
   ]
  },
  {
   "cell_type": "code",
   "execution_count": null,
   "metadata": {},
   "outputs": [],
   "source": [
    "import numpy as np\n",
    "import matplotlib.pyplot as plt\n",
    "import torch as tc\n",
    "import torch.nn.functional as F\n",
    "import os"
   ]
  },
  {
   "cell_type": "markdown",
   "metadata": {},
   "source": [
    "# Functions"
   ]
  },
  {
   "cell_type": "code",
   "execution_count": null,
   "metadata": {},
   "outputs": [],
   "source": [
    "def molenkeamp(X,Y, param, t):\n",
    "    h = np.sqrt((X-param[3]+0.5*np.cos(2*np.pi*t))**2+(Y-param[4]+0.5*np.sin(2*np.pi*t))**2)\n",
    "    \n",
    "    return param[0]*0.01**(param[1]*h**2)*np.exp(-param[2]*t)\n",
    "\n",
    "def molenkeamp_no_decay(X,Y, param, t):\n",
    "    h = np.sqrt((X-param[2]+0.5*np.cos(2*np.pi*t))**2+(Y-param[3]+0.5*np.sin(2*np.pi*t))**2)\n",
    "    \n",
    "    return param[0]*0.01**(param[1]*h**2)\n",
    "\n",
    "def generate_param():\n",
    "    \n",
    "    l1 = np.random.rand() * 19 + 1\n",
    "    l2 = np.random.rand() * 2 + 2\n",
    "    l3 = np.random.rand() * 4 + 1\n",
    "    l4 = np.random.rand() * 0.2 - 0.1\n",
    "    l5 = np.random.rand() * 0.2 - 0.1\n",
    "    \n",
    "    return [l1,l2,l3,l4,l5]\n",
    "    \n",
    "def generate_param_no_decay():\n",
    "    \n",
    "    l1 = np.random.rand() * 19 + 1\n",
    "    l2 = np.random.rand() * 2 + 2\n",
    "    l3 = np.random.rand() * 0.2 - 0.1\n",
    "    l4 = np.random.rand() * 0.2 - 0.1\n",
    "    \n",
    "    return [l1,l2,l3,l4]\n",
    "\n",
    "def get_data(samples, T_grid, grid):\n",
    "\n",
    "    field_step = []\n",
    "    parameter = []\n",
    "\n",
    "    for i in range(samples):\n",
    "        P = generate_param()\n",
    "        out = []\n",
    "        for count, t in enumerate(T_grid):\n",
    "            out.append([molenkeamp(grid[0], grid[1], P, t)])\n",
    "        parameter.append(np.concatenate((P, [T_grid[1] - T_grid[0]])))\n",
    "        field_step.append(out)\n",
    "\n",
    "    return field_step , parameter\n"
   ]
  },
  {
   "cell_type": "markdown",
   "metadata": {},
   "source": [
    "# Get Data"
   ]
  },
  {
   "cell_type": "code",
   "execution_count": null,
   "metadata": {},
   "outputs": [],
   "source": [
    "path_data = '../../../../../scratch/aalelonghi/molenkamp_whole_time_series_2/'\n",
    "samples_training = 1\n",
    "samples_validation = 1\n",
    "\n",
    "T = np.arange(0, 1.05, 0.05)\n",
    "a = np.linspace(-1,1,128)\n",
    "b = np.linspace(1,-1,128)\n",
    "X, Y = np.meshgrid(a, b)\n",
    "\n",
    "field_step_training, parameter_training = get_data(samples_training, T, [X,Y])\n",
    "field_step_validation, parameter_validation = get_data(samples_validation, T, [X,Y])"
   ]
  },
  {
   "cell_type": "code",
   "execution_count": null,
   "metadata": {},
   "outputs": [],
   "source": [
    "print('field_step_training',np.shape(field_step_training))"
   ]
  },
  {
   "cell_type": "code",
   "execution_count": null,
   "metadata": {},
   "outputs": [],
   "source": [
    "os.makedirs(path_data, exist_ok=True)\n",
    "np.save(path_data + '/field_step_training', np.float32(field_step_training), allow_pickle=True, fix_imports=True)\n",
    "np.save(path_data + '/parameter_training', np.float32(parameter_training), allow_pickle=True, fix_imports=True)\n",
    "\n",
    "np.save(path_data + '/field_step_validation', np.float32(field_step_validation), allow_pickle=True, fix_imports=True)\n",
    "np.save(path_data + '/parameter_validation', np.float32(parameter_validation), allow_pickle=True, fix_imports=True)"
   ]
  },
  {
   "cell_type": "markdown",
   "metadata": {},
   "source": [
    "# Make test data"
   ]
  },
  {
   "cell_type": "code",
   "execution_count": null,
   "metadata": {},
   "outputs": [],
   "source": [
    "#generate test\n",
    "\n",
    "samples_test = 1\n",
    "\n",
    "T_test = np.arange(0, 1.05, 0.05)\n",
    "a = np.linspace(-1,1,128)\n",
    "b = np.linspace(1,-1,128)\n",
    "X, Y = np.meshgrid(a, b)\n",
    "\n",
    "initial_condition = []\n",
    "parameter = []\n",
    "output = []\n",
    "\n",
    "for i in range(samples_test):\n",
    "    P = generate_param_no_decay()\n",
    "    out = []\n",
    "    for count, t in enumerate(T_test):\n",
    "        out.append([molenkeamp_no_decay(X, Y, P, T_test[count])])\n",
    "    output.append(out)\n",
    "    parameter.append(P)\n",
    "    initial_condition.append([molenkeamp_no_decay(X, Y, P, 0)])\n",
    "\n",
    "    #remember to call the normalized"
   ]
  },
  {
   "cell_type": "code",
   "execution_count": null,
   "metadata": {},
   "outputs": [],
   "source": [
    "np.save(path_data + '/testing_initial_conditions', np.float32(initial_condition), allow_pickle=True, fix_imports=True)\n",
    "np.save(path_data + '/testing_parameter', np.float32(parameter), allow_pickle=True, fix_imports=True)\n",
    "np.save(path_data + '/testing_T', np.float32(T_test), allow_pickle=True, fix_imports=True)\n",
    "np.save(path_data + '/testing_output', np.float32(output), allow_pickle=True, fix_imports=True)"
   ]
  },
  {
   "cell_type": "markdown",
   "metadata": {},
   "source": [
    "# get test ad different time-steps"
   ]
  },
  {
   "cell_type": "code",
   "execution_count": null,
   "metadata": {},
   "outputs": [],
   "source": [
    "#generate test\n",
    "\n",
    "params = np.load('steep/testing_parameter.npy')\n",
    "samples_test = 100\n",
    "T_test = np.array([0,0.05,0.1,0.15,0.2,0.22,0.25,0.3,0.35,0.4,0.45,0.5,0.55,0.6,0.65,0.7,0.75,0.8,0.85,0.9,0.95,1])\n",
    "a = np.linspace(-1,1,128)\n",
    "b = np.linspace(1,-1,128)\n",
    "X, Y = np.meshgrid(a, b)\n",
    "\n",
    "output = []\n",
    "\n",
    "for i in range(samples_test):\n",
    "    P = params[i]\n",
    "    out = []\n",
    "    for count, t in enumerate(T_test):\n",
    "        out.append([molenkeamp(X, Y, P, T_test[count])])\n",
    "    output.append(out)\n",
    "\n",
    "print(np.shape(output))\n",
    "    #remember to call the normalized"
   ]
  },
  {
   "cell_type": "code",
   "execution_count": null,
   "metadata": {},
   "outputs": [],
   "source": [
    "np.save('steep/testing_output_diff_time', np.float32(output), allow_pickle=True, fix_imports=True)"
   ]
  },
  {
   "cell_type": "markdown",
   "metadata": {},
   "source": [
    "# Generate data out of distribution"
   ]
  },
  {
   "cell_type": "code",
   "execution_count": null,
   "metadata": {},
   "outputs": [],
   "source": [
    "samples_test = 100\n",
    "\n",
    "T_test = np.arange(0, 1.05, 0.05)\n",
    "a = np.linspace(-1,1,128)\n",
    "b = np.linspace(1,-1,128)\n",
    "X, Y = np.meshgrid(a, b)\n",
    "\n",
    "initial_condition = []\n",
    "parameter = []\n",
    "output = []\n",
    "\n",
    "for i in range(samples_test):\n",
    "    P = [np.random.rand()*]\n",
    "    out = []\n",
    "    for count, t in enumerate(T_test):\n",
    "        out.append([molenkeamp_no_decay(X, Y, P, T_test[count])])\n",
    "    output.append(out)\n",
    "    parameter.append(P)\n",
    "    print(P)\n",
    "    initial_condition.append([molenkeamp_no_decay(X, Y, P, 0)])\n",
    "\n",
    "print(np.shape(output))"
   ]
  },
  {
   "cell_type": "markdown",
   "metadata": {},
   "source": []
  },
  {
   "cell_type": "markdown",
   "metadata": {},
   "source": [
    "# Random"
   ]
  },
  {
   "cell_type": "code",
   "execution_count": null,
   "metadata": {},
   "outputs": [],
   "source": [
    "tr = np.load('field_step_training.npy')\n",
    "val = np.load('field_step_validation.npy')\n",
    "print(np.shape(tr))\n",
    "print(np.shape(val))"
   ]
  },
  {
   "cell_type": "code",
   "execution_count": null,
   "metadata": {},
   "outputs": [],
   "source": [
    "tr = np.reshape(tr,(5000*21,1,1,128,128))\n",
    "val = np.reshape(val,(200*21,1,1,128,128))\n",
    "print(np.shape(tr))\n",
    "print(np.shape(val))\n",
    "np.save('../molenkamp_whole_time_series/image_training', np.float32(tr), allow_pickle=True, fix_imports=True)\n",
    "np.save('../molenkamp_whole_time_series/image_validation', np.float32(val), allow_pickle=True, fix_imports=True)"
   ]
  }
 ],
 "metadata": {
  "kernelspec": {
   "display_name": "Python 3 (ipykernel)",
   "language": "python",
   "name": "python3"
  },
  "language_info": {
   "codemirror_mode": {
    "name": "ipython",
    "version": 3
   },
   "file_extension": ".py",
   "mimetype": "text/x-python",
   "name": "python",
   "nbconvert_exporter": "python",
   "pygments_lexer": "ipython3",
   "version": "3.9.21"
  }
 },
 "nbformat": 4,
 "nbformat_minor": 4
}
