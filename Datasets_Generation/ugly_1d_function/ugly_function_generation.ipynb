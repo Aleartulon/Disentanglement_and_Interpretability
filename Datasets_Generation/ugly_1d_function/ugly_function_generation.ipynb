{
 "cells": [
  {
   "cell_type": "code",
   "execution_count": 1,
   "id": "16947a55-c38a-4d5b-a387-a816092c7ce7",
   "metadata": {},
   "outputs": [],
   "source": [
    "import numpy as np\n",
    "import matplotlib.pyplot as plt"
   ]
  },
  {
   "cell_type": "code",
   "execution_count": 2,
   "id": "8acba1fa-e15a-420a-9280-4707aabf843d",
   "metadata": {},
   "outputs": [],
   "source": [
    "def discontinuous_function( x, mean,sigma):\n",
    "    if x < 0.35:\n",
    "        gaussian = 1/(np.sqrt(2*np.pi)*sigma)*np.exp(-(x-mean)**2/(2*sigma**2))\n",
    "    else:\n",
    "        gaussian = x\n",
    "    return np.array([x], dtype='f'), np.array([gaussian], dtype='f')\n",
    "\n",
    "mean = 0.5\n",
    "sigma = 0.1"
   ]
  },
  {
   "cell_type": "code",
   "execution_count": 7,
   "id": "6ca35033-c327-4b9a-b15d-a3b386eb44c7",
   "metadata": {},
   "outputs": [],
   "source": [
    "validation_parameter = []\n",
    "validation_field = []\n",
    "\n",
    "for i in range(100):\n",
    "    random = np.random.rand()\n",
    "    param, field = discontinuous_function(random, mean, sigma)\n",
    "    validation_parameter.append(param)\n",
    "    validation_field.append(field)"
   ]
  },
  {
   "cell_type": "code",
   "execution_count": 8,
   "id": "e36e433a",
   "metadata": {},
   "outputs": [],
   "source": [
    "data_path = '../../../../../scratch/aalelonghi/ugly_function/'\n",
    "np.save( data_path+'/validation_parameter', np.array(validation_parameter, dtype = 'float32'), allow_pickle=True, fix_imports=True)\n",
    "np.save(data_path +'/validation_field', np.array(validation_field, dtype = 'float32'), allow_pickle=True, fix_imports=True)"
   ]
  }
 ],
 "metadata": {
  "kernelspec": {
   "display_name": "Python 3 (ipykernel)",
   "language": "python",
   "name": "python3"
  },
  "language_info": {
   "codemirror_mode": {
    "name": "ipython",
    "version": 3
   },
   "file_extension": ".py",
   "mimetype": "text/x-python",
   "name": "python",
   "nbconvert_exporter": "python",
   "pygments_lexer": "ipython3",
   "version": "3.9.21"
  }
 },
 "nbformat": 4,
 "nbformat_minor": 5
}
