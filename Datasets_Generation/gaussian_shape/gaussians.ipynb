{
 "cells": [
  {
   "cell_type": "markdown",
   "id": "bba2cc2d",
   "metadata": {},
   "source": [
    "# Generation of data for toy problem: 2D Gaussian cloud with varying center and variance"
   ]
  },
  {
   "cell_type": "code",
   "execution_count": 1,
   "id": "f57a9d38",
   "metadata": {},
   "outputs": [],
   "source": [
    "import numpy as np\n",
    "import matplotlib.pyplot as plt"
   ]
  },
  {
   "cell_type": "code",
   "execution_count": 2,
   "id": "94532886",
   "metadata": {},
   "outputs": [],
   "source": [
    "def normalized_gaussian_2d(x, y, x0=0, y0=0, sigma_x=1, sigma_y=1):\n",
    "    coefficient = 1 / (2 * np.pi * sigma_x * sigma_y)\n",
    "    exponent = -(((x - x0) ** 2) / (2 * sigma_x ** 2) + ((y - y0) ** 2) / (2 * sigma_y ** 2))\n",
    "    return coefficient * np.exp(exponent)/np.amax(coefficient * np.exp(exponent))"
   ]
  },
  {
   "cell_type": "code",
   "execution_count": 5,
   "id": "bea5c938",
   "metadata": {},
   "outputs": [],
   "source": [
    "a = np.linspace(-1.5,1.5,128)\n",
    "b = np.linspace(1.5,-1.5,128)\n",
    "X, Y = np.meshgrid(a, b)"
   ]
  },
  {
   "cell_type": "code",
   "execution_count": 13,
   "id": "5fb9b729",
   "metadata": {},
   "outputs": [
    {
     "name": "stdout",
     "output_type": "stream",
     "text": [
      "training_field (10000, 1, 1, 128, 128)\n",
      "training_field_parameters (10000, 3)\n"
     ]
    }
   ],
   "source": [
    "training_field = []\n",
    "training_field_parameters = []\n",
    "\n",
    "for i in range(10000):\n",
    "    x = np.random.rand() * 1.5 - 0.5\n",
    "    y = np.random.rand() * 1.5 - 0.5\n",
    "    sigma = np.random.rand() * 0.25+0.001\n",
    "    field = normalized_gaussian_2d(X,Y,x,y,sigma,sigma)\n",
    "    training_field.append([[field]])\n",
    "    training_field_parameters.append([x,y,sigma])\n",
    "    \n",
    "print('training_field', np.shape(training_field))\n",
    "print('training_field_parameters', np.shape(training_field_parameters))\n",
    "\n",
    "np.save('../../../../../scratch/aalelonghi/gaussian_shapes/training_field', np.float32(training_field), allow_pickle=True, fix_imports=True)\n",
    "np.save('../../../../../scratch/aalelonghi/gaussian_shapes/training_field_parameters', np.float32(training_field_parameters), allow_pickle=True, fix_imports=True)"
   ]
  },
  {
   "cell_type": "code",
   "execution_count": 14,
   "id": "42b1ffed",
   "metadata": {},
   "outputs": [
    {
     "name": "stdout",
     "output_type": "stream",
     "text": [
      "validation_field (500, 1, 1, 128, 128)\n",
      "validation_field_parameters (500, 3)\n"
     ]
    }
   ],
   "source": [
    "validation_field = []\n",
    "validation_field_parameters = []\n",
    "\n",
    "for i in range(500):\n",
    "    x = np.random.rand() * 1.5 - 0.5\n",
    "    y = np.random.rand() * 1.5 - 0.5\n",
    "    sigma = np.random.rand() * 0.25+0.001\n",
    "    field = normalized_gaussian_2d(X,Y,x,y,sigma,sigma)\n",
    "    validation_field.append([[field]])\n",
    "    validation_field_parameters.append([x,y,sigma])\n",
    "    \n",
    "print('validation_field', np.shape(validation_field))\n",
    "print('validation_field_parameters', np.shape(validation_field_parameters))\n",
    "\n",
    "np.save('../../../../../scratch/aalelonghi/gaussian_shapes/validation_field', np.float32(validation_field), allow_pickle=True, fix_imports=True)\n",
    "np.save('../../../../../scratch/aalelonghi/gaussian_shapes/validation_field_parameters', np.float32(validation_field_parameters), allow_pickle=True, fix_imports=True)"
   ]
  },
  {
   "cell_type": "code",
   "execution_count": 15,
   "id": "893e2a5d",
   "metadata": {},
   "outputs": [
    {
     "name": "stdout",
     "output_type": "stream",
     "text": [
      "test_field (100, 1, 1, 128, 128)\n",
      "test_field_parameters (100, 3)\n"
     ]
    }
   ],
   "source": [
    "test_field = []\n",
    "test_field_parameters = []\n",
    "\n",
    "for i in range(100):\n",
    "    x = np.random.rand() * 1.5 - 0.5\n",
    "    y = np.random.rand() * 1.5 - 0.5\n",
    "    sigma = np.random.rand() * 0.25+0.001\n",
    "    field = normalized_gaussian_2d(X,Y,x,y,sigma,sigma)\n",
    "    test_field.append([[field]])\n",
    "    test_field_parameters.append([x,y,sigma])\n",
    "    \n",
    "print('test_field', np.shape(test_field))\n",
    "print('test_field_parameters', np.shape(test_field_parameters))\n",
    "\n",
    "np.save('../../../../../scratch/aalelonghi/gaussian_shapes/test_field', np.float32(test_field), allow_pickle=True, fix_imports=True)\n",
    "np.save('../../../../../scratch/aalelonghi/gaussian_shapes/test_field_parameters', np.float32(test_field_parameters), allow_pickle=True, fix_imports=True)"
   ]
  },
  {
   "cell_type": "code",
   "execution_count": 19,
   "id": "0ab30483",
   "metadata": {},
   "outputs": [
    {
     "name": "stdout",
     "output_type": "stream",
     "text": [
      "[-0.05233973368543454, -0.2080010615939486, 0.06362003113486506]\n"
     ]
    },
    {
     "data": {
      "image/png": "[encoded data removed]",
      "text/plain": [
       "<Figure size 640x480 with 2 Axes>"
      ]
     },
     "metadata": {},
     "output_type": "display_data"
    }
   ],
   "source": [
    "sample = 90\n",
    "plt.imshow(training_field[sample][0][0])\n",
    "plt.colorbar()\n",
    "print(training_field_parameters[sample])"
   ]
  },
  {
   "cell_type": "code",
   "execution_count": 4,
   "id": "2e62e62c",
   "metadata": {},
   "outputs": [
    {
     "ename": "SyntaxError",
     "evalue": "invalid syntax (118853707.py, line 7)",
     "output_type": "error",
     "traceback": [
      "\u001b[0;36m  Cell \u001b[0;32mIn[4], line 7\u001b[0;36m\u001b[0m\n\u001b[0;31m    sigma = np.random.rand() 0.05\u001b[0m\n\u001b[0m                             ^\u001b[0m\n\u001b[0;31mSyntaxError\u001b[0m\u001b[0;31m:\u001b[0m invalid syntax\n"
     ]
    }
   ],
   "source": [
    "# vary only x\n",
    "test_field = []\n",
    "test_field_parameters = []\n",
    "for i in np.arange(-0.5,0.5,0.01):\n",
    "    x = i\n",
    "    y = 0.0\n",
    "    sigma = np.random.rand() * 0.05\n",
    "    field = normalized_gaussian_2d(X,Y,x,y,sigma,sigma)\n",
    "    test_field.append([[field]])\n",
    "    test_field_parameters.append([x,y,sigma])\n",
    "    \n",
    "print('test_field', np.shape(test_field))\n",
    "print('test_field_parameters', np.shape(test_field_parameters))\n",
    "\n",
    "np.save('../../../../../scratch/aalelonghi/gaussian_shapes/test_field_x', np.float32(test_field), allow_pickle=True, fix_imports=True)\n",
    "np.save('../../../../../scratch/aalelonghi/gaussian_shapes/test_field_parameters_x', np.float32(test_field_parameters), allow_pickle=True, fix_imports=True)"
   ]
  },
  {
   "cell_type": "code",
   "execution_count": 6,
   "id": "2bd9a541",
   "metadata": {},
   "outputs": [
    {
     "name": "stdout",
     "output_type": "stream",
     "text": [
      "test_field (100, 1, 1, 128, 128)\n",
      "test_field_parameters (100, 3)\n"
     ]
    }
   ],
   "source": [
    "# vary only y\n",
    "test_field = []\n",
    "test_field_parameters = []\n",
    "for i in np.arange(-0.5,0.5,0.01):\n",
    "    y = i\n",
    "    x = 0.0\n",
    "    sigma = np.random.rand() * 0.05\n",
    "    field = normalized_gaussian_2d(X,Y,x,y,sigma,sigma)\n",
    "    test_field.append([[field]])\n",
    "    test_field_parameters.append([x,y,sigma])\n",
    "    \n",
    "print('test_field', np.shape(test_field))\n",
    "print('test_field_parameters', np.shape(test_field_parameters))\n",
    "\n",
    "np.save('../../../../../scratch/aalelonghi/gaussian_shapes/test_field_y', np.float32(test_field), allow_pickle=True, fix_imports=True)\n",
    "np.save('../../../../../scratch/aalelonghi/gaussian_shapes/test_field_parameters_y', np.float32(test_field_parameters), allow_pickle=True, fix_imports=True)"
   ]
  }
 ],
 "metadata": {
  "kernelspec": {
   "display_name": "Python 3 (ipykernel)",
   "language": "python",
   "name": "python3"
  },
  "language_info": {
   "codemirror_mode": {
    "name": "ipython",
    "version": 3
   },
   "file_extension": ".py",
   "mimetype": "text/x-python",
   "name": "python",
   "nbconvert_exporter": "python",
   "pygments_lexer": "ipython3",
   "version": "3.9.21"
  }
 },
 "nbformat": 4,
 "nbformat_minor": 5
}
