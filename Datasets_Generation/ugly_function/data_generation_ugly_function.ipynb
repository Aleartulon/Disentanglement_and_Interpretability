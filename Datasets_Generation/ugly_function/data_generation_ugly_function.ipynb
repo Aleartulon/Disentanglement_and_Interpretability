{
 "cells": [
  {
   "cell_type": "markdown",
   "id": "70442764-28f0-4ee7-896c-865ead5ae3ca",
   "metadata": {},
   "source": [
    "# Ugly function"
   ]
  },
  {
   "cell_type": "code",
   "execution_count": 1,
   "id": "bfa34f5d-abf7-4732-b9c0-7af5ae5c732f",
   "metadata": {},
   "outputs": [],
   "source": [
    "import numpy as np\n",
    "import matplotlib.pyplot as plt"
   ]
  },
  {
   "cell_type": "code",
   "execution_count": 17,
   "id": "95a7b490-6eab-4a5f-89ed-6533f3dc3021",
   "metadata": {},
   "outputs": [],
   "source": [
    "def difficult_function(x):\n",
    "    y = 1/(np.abs(0.8-x**2)+0.1)\n",
    "    return [x], [y]"
   ]
  },
  {
   "cell_type": "code",
   "execution_count": 20,
   "id": "feb507cf-3669-403c-a594-244918d52696",
   "metadata": {},
   "outputs": [],
   "source": [
    "validation_parameter = []\n",
    "validation_field = []\n",
    "X = np.random.rand(100)\n",
    "#X = np.linspace(0,1,100)\n",
    "for i in X:\n",
    "    param, field = difficult_function(i)\n",
    "    validation_parameter.append(param)\n",
    "    validation_field.append(field)"
   ]
  },
  {
   "cell_type": "code",
   "execution_count": 21,
   "id": "83d704c5-f0be-409f-a9b5-80a34544a4e7",
   "metadata": {},
   "outputs": [],
   "source": [
    "data_path = '../../../../../scratch/aalelonghi/ugly_function/'\n",
    "np.save( data_path+'/validation_parameter', np.array(validation_parameter, dtype = 'float32'), allow_pickle=True, fix_imports=True)\n",
    "np.save(data_path +'/validation_field', np.array(validation_field, dtype = 'float32'), allow_pickle=True, fix_imports=True)"
   ]
  }
 ],
 "metadata": {
  "kernelspec": {
   "display_name": "Python 3 (ipykernel)",
   "language": "python",
   "name": "python3"
  },
  "language_info": {
   "codemirror_mode": {
    "name": "ipython",
    "version": 3
   },
   "file_extension": ".py",
   "mimetype": "text/x-python",
   "name": "python",
   "nbconvert_exporter": "python",
   "pygments_lexer": "ipython3",
   "version": "3.9.21"
  }
 },
 "nbformat": 4,
 "nbformat_minor": 5
}
