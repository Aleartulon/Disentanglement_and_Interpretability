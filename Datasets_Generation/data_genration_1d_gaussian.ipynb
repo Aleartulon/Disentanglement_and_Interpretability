{
 "cells": [
  {
   "cell_type": "markdown",
   "id": "7300adaa-fe2f-4636-ad98-058cad13ed05",
   "metadata": {},
   "source": [
    "# Generate data for 1d gaussian"
   ]
  },
  {
   "cell_type": "code",
   "execution_count": 1,
   "id": "212b9660-db5c-4bfe-a107-71602b9dd74f",
   "metadata": {},
   "outputs": [],
   "source": [
    "import numpy as np\n",
    "import matplotlib.pyplot as plt"
   ]
  },
  {
   "cell_type": "code",
   "execution_count": 2,
   "id": "dc37d4e9-a557-4381-9f66-e73093bba825",
   "metadata": {},
   "outputs": [],
   "source": [
    "def one_d_gaussian(x, mean,sigma):\n",
    "    gaussian = 1/(np.sqrt(2*np.pi)*sigma)*np.exp(-(x-mean)**2/(2*sigma**2))\n",
    "    return [x], [gaussian]\n",
    "mean = 0.5\n",
    "sigma = 0.1"
   ]
  },
  {
   "cell_type": "code",
   "execution_count": 3,
   "id": "e0e4c7da-5336-4bcb-9abc-5c16b6e46efc",
   "metadata": {},
   "outputs": [],
   "source": [
    "validation_parameter = []\n",
    "validation_field = []\n",
    "\n",
    "for i in range(61):\n",
    "    random = np.random.rand()\n",
    "    param, field = one_d_gaussian(random, mean, sigma)\n",
    "    validation_parameter.append(param)\n",
    "    validation_field.append(field)"
   ]
  },
  {
   "cell_type": "code",
   "execution_count": 4,
   "id": "74510184-405d-4290-8a26-3caf7dd99104",
   "metadata": {},
   "outputs": [],
   "source": [
    "data_path = '../../../../../scratch/aalelonghi/one_d_gaussian/'\n",
    "np.save( data_path+'/training_parameter', np.array(validation_parameter, dtype = 'float32'), allow_pickle=True, fix_imports=True)\n",
    "np.save(data_path +'/training_field', np.array(validation_field, dtype = 'float32'), allow_pickle=True, fix_imports=True)"
   ]
  }
 ],
 "metadata": {
  "kernelspec": {
   "display_name": "Python 3 (ipykernel)",
   "language": "python",
   "name": "python3"
  },
  "language_info": {
   "codemirror_mode": {
    "name": "ipython",
    "version": 3
   },
   "file_extension": ".py",
   "mimetype": "text/x-python",
   "name": "python",
   "nbconvert_exporter": "python",
   "pygments_lexer": "ipython3",
   "version": "3.9.21"
  }
 },
 "nbformat": 4,
 "nbformat_minor": 5
}
