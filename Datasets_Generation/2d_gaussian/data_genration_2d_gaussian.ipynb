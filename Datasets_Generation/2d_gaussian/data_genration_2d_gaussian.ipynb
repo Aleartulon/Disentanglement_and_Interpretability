{
 "cells": [
  {
   "cell_type": "markdown",
   "id": "7300adaa-fe2f-4636-ad98-058cad13ed05",
   "metadata": {},
   "source": [
    "# Generate data for 1d gaussian"
   ]
  },
  {
   "cell_type": "code",
   "execution_count": 10,
   "id": "212b9660-db5c-4bfe-a107-71602b9dd74f",
   "metadata": {},
   "outputs": [],
   "source": [
    "import numpy as np\n",
    "import matplotlib.pyplot as plt"
   ]
  },
  {
   "cell_type": "code",
   "execution_count": 11,
   "id": "dc37d4e9-a557-4381-9f66-e73093bba825",
   "metadata": {},
   "outputs": [],
   "source": [
    "def two_d_gaussian(x, y, mean1, mean2, sigma1, sigma2):\n",
    "    gaussian = 1/(2*np.pi*sigma1*sigma2)*np.exp(-((x-mean1)**2/(2*sigma1**2)+(y-mean2)**2/(2*sigma2**2)))\n",
    "    return [x,y], [gaussian]\n",
    "mean1 = 0.5\n",
    "mean2 = 0.5\n",
    "sigma1 = 0.1\n",
    "sigma2 = 0.1"
   ]
  },
  {
   "cell_type": "code",
   "execution_count": 12,
   "id": "e0e4c7da-5336-4bcb-9abc-5c16b6e46efc",
   "metadata": {},
   "outputs": [],
   "source": [
    "validation_parameter = []\n",
    "validation_field = []\n",
    "\n",
    "for i in range(125):\n",
    "    for j in range(125):\n",
    "        random1 = np.random.rand()\n",
    "        random2 = np.random.rand()\n",
    "        param, field = two_d_gaussian(random1, random2, mean1, mean2, sigma1, sigma2)\n",
    "        validation_parameter.append(param)\n",
    "        validation_field.append(field)"
   ]
  },
  {
   "cell_type": "code",
   "execution_count": 14,
   "id": "74510184-405d-4290-8a26-3caf7dd99104",
   "metadata": {},
   "outputs": [],
   "source": [
    "data_path = '../../../../../scratch/aalelonghi/two_d_gaussian/'\n",
    "np.save( data_path+'/training_parameter', np.array(validation_parameter, dtype = 'float32'), allow_pickle=True, fix_imports=True)\n",
    "np.save(data_path +'/training_field', np.array(validation_field, dtype = 'float32'), allow_pickle=True, fix_imports=True)"
   ]
  }
 ],
 "metadata": {
  "kernelspec": {
   "display_name": "Python 3 (ipykernel)",
   "language": "python",
   "name": "python3"
  },
  "language_info": {
   "codemirror_mode": {
    "name": "ipython",
    "version": 3
   },
   "file_extension": ".py",
   "mimetype": "text/x-python",
   "name": "python",
   "nbconvert_exporter": "python",
   "pygments_lexer": "ipython3",
   "version": "3.9.21"
  }
 },
 "nbformat": 4,
 "nbformat_minor": 5
}
